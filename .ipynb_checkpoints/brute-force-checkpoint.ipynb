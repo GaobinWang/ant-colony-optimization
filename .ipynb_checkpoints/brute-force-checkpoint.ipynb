{
 "cells": [
  {
   "cell_type": "code",
   "execution_count": 2,
   "metadata": {
    "collapsed": true
   },
   "outputs": [],
   "source": [
    "import pandas as pd\n",
    "import numpy as np"
   ]
  },
  {
   "cell_type": "code",
   "execution_count": 8,
   "metadata": {
    "collapsed": true
   },
   "outputs": [],
   "source": [
    "import itertools"
   ]
  },
  {
   "cell_type": "code",
   "execution_count": 46,
   "metadata": {
    "collapsed": true
   },
   "outputs": [],
   "source": [
    "distances = pd.read_csv('distances.csv', sep=';')"
   ]
  },
  {
   "cell_type": "code",
   "execution_count": 55,
   "metadata": {
    "collapsed": true
   },
   "outputs": [],
   "source": [
    "def get_row_by_num(num):\n",
    "    return np.array(distances)[num,1:]\n",
    "\n",
    "def get_distance(a, b):\n",
    "    return get_row_by_num(a)[b]"
   ]
  },
  {
   "cell_type": "code",
   "execution_count": 64,
   "metadata": {
    "collapsed": true
   },
   "outputs": [],
   "source": [
    "cities = []\n",
    "initial_location = 0\n",
    "for i in range(0,len(distances)):\n",
    "    if not (i==initial_location):\n",
    "        cities.append(i)"
   ]
  },
  {
   "cell_type": "code",
   "execution_count": 72,
   "metadata": {
    "collapsed": false,
    "scrolled": true
   },
   "outputs": [
    {
     "name": "stdout",
     "output_type": "stream",
     "text": [
      "53140\n",
      "[0, 3, 4, 5, 6, 1, 2, 7, 0]\n"
     ]
    }
   ],
   "source": [
    "print(\"Brute force)\n",
    "best_path = 999999999\n",
    "path = []\n",
    "combos = itertools.permutations(cities,len(cities))\n",
    "i = 0\n",
    "for r in combos:\n",
    "    distance = 0    \n",
    "    distance += get_distance(0,r[0]) # Initial to first\n",
    "    \n",
    "    # Add distances\n",
    "    for i in range(0,len(r)-1):\n",
    "        distance += get_distance(r[i],r[i+1])        \n",
    "        \n",
    "    distance += get_distance(r[-1],0) # Back to initial\n",
    "    # path_distances.append(distance)\n",
    "    \n",
    "    # New best found\n",
    "    if distance < best_path:\n",
    "        best_path = distance\n",
    "        path = [0]\n",
    "        for i in range(0,len(r)):\n",
    "            path.append(r[i])\n",
    "        path.append(0)\n",
    "        \n",
    "print(best_path)\n",
    "print(path)"
   ]
  },
  {
   "cell_type": "code",
   "execution_count": 71,
   "metadata": {
    "collapsed": false,
    "scrolled": true
   },
   "outputs": [
    {
     "data": {
      "text/plain": [
       "[1, 2, 3, 4, 5, 6, 7]"
      ]
     },
     "execution_count": 71,
     "metadata": {},
     "output_type": "execute_result"
    }
   ],
   "source": [
    "cities"
   ]
  },
  {
   "cell_type": "code",
   "execution_count": 58,
   "metadata": {
    "collapsed": true
   },
   "outputs": [],
   "source": [
    "test = [4,2,7,3,6,1,0]"
   ]
  },
  {
   "cell_type": "code",
   "execution_count": 62,
   "metadata": {
    "collapsed": false
   },
   "outputs": [
    {
     "name": "stdout",
     "output_type": "stream",
     "text": [
      "17926\n",
      "11778\n",
      "2928\n",
      "15562\n",
      "8825\n",
      "4608\n",
      "8980\n",
      "70607\n"
     ]
    }
   ],
   "source": [
    "distance = 0\n",
    "distance += get_distance(0,test[0])\n",
    "print(get_distance(0,test[0]))\n",
    "for i in range(0,len(test)-1):\n",
    "    print(get_distance(test[i],test[i+1]))\n",
    "    distance += get_distance(test[i],test[i+1])\n",
    "print(distance)"
   ]
  },
  {
   "cell_type": "code",
   "execution_count": null,
   "metadata": {
    "collapsed": true
   },
   "outputs": [],
   "source": []
  }
 ],
 "metadata": {
  "kernelspec": {
   "display_name": "Python 3",
   "language": "python",
   "name": "python3"
  },
  "language_info": {
   "codemirror_mode": {
    "name": "ipython",
    "version": 3
   },
   "file_extension": ".py",
   "mimetype": "text/x-python",
   "name": "python",
   "nbconvert_exporter": "python",
   "pygments_lexer": "ipython3",
   "version": "3.5.1"
  }
 },
 "nbformat": 4,
 "nbformat_minor": 0
}
